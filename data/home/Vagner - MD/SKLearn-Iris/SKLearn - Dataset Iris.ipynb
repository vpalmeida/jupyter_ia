{
 "cells": [
  {
   "cell_type": "markdown",
   "id": "8bd8a6a1",
   "metadata": {},
   "source": [
    "# Mineração de Dados com Scikit-Learn e Iris Dataset - Classificação\n",
    "\n",
    "\n",
    "## Scikit-learn\n",
    "\n",
    "Conforme a própria documentação encontrada na sessão [Getting Started](https://scikit-learn.org/stable/getting_started.html) de sua página oficial,\n",
    ">\"Scikit-learn é uma biblioteca de aprendizado de máquina de código aberto que oferece suporte ao aprendizado supervisionado e não supervisionado. Ele também fornece várias ferramentas para ajuste de modelo, pré-processamento de dados, seleção e avaliação de modelo e muitos outros utilitários\".\n",
    "\n",
    "Vamos explorar aqui um pouco do que essa biblioteca é capaz de fazer trabalhando o conjunto de dados Iris.\n",
    "\n",
    "## Iris Dataset\n",
    "\n",
    "É um consenso entre todos que iniciam o estudo de Machine Learning que, este é talvez o banco de dados mais conhecido que pode ser encontrado na literatura de reconhecimento de padrões. O conjunto de dados contém 3 classes de 50 instâncias cada, onde cada classe se refere a um tipo de orquídea Iris.\n",
    "\n",
    "A separação das classes é feita através da análise dos seguintes atributos: largura e altura da pétala e largura e altura da sépula. \n",
    "\n",
    "Através dessa análise, o conjunto de dados pode ser dividido em: *Iris Setosa*, *Iris Versicolor*, e *Iris Virginica*.\n",
    "\n",
    "Vamos iniciar importando os conjuntos de dados da biblioteca *sklearn* e carregando o conjunto *Iris* em uma variável de dataset.\n",
    "\n",
    "    from sklearn import datasets\n",
    "    iris =  datasets.load_iris()"
   ]
  },
  {
   "cell_type": "code",
   "execution_count": 1,
   "id": "46441209",
   "metadata": {},
   "outputs": [],
   "source": [
    "from sklearn import datasets\n",
    "iris =  datasets.load_iris()"
   ]
  },
  {
   "cell_type": "markdown",
   "id": "538eea39",
   "metadata": {},
   "source": [
    "### Armazenamento de Features (Recursos) e Target (Alvo) do conjunto de dados Iris\n",
    "\n",
    "    X = iris.data\n",
    "    y = iris.target\n",
    "\n",
    "Aqui você deve ter notado que os recursos são armazenados na forma de matriz e é por isso que X é maiúsculo para diferenciar entre a matriz e o vetor y.\n"
   ]
  },
  {
   "cell_type": "code",
   "execution_count": 2,
   "id": "0769cba5",
   "metadata": {},
   "outputs": [],
   "source": [
    "X = iris.data\n",
    "y = iris.target\n"
   ]
  },
  {
   "cell_type": "markdown",
   "id": "e1604a8a",
   "metadata": {},
   "source": [
    "Nome das Features (Recursos)\n",
    "    \n",
    "    print(iris.feature_names)"
   ]
  },
  {
   "cell_type": "code",
   "execution_count": 3,
   "id": "f0bad454",
   "metadata": {},
   "outputs": [
    {
     "name": "stdout",
     "output_type": "stream",
     "text": [
      "['sepal length (cm)', 'sepal width (cm)', 'petal length (cm)', 'petal width (cm)']\n"
     ]
    }
   ],
   "source": [
    "print(iris.feature_names)"
   ]
  },
  {
   "cell_type": "markdown",
   "id": "87124456",
   "metadata": {},
   "source": [
    "Podemos ver que temos 4 recursos no conjunto de dados da Íris chamados: Sépala, Pétala, comprimento e largura.\n",
    "Mas, o que são sépalas e pétalas? Podemos ver isso claramente na imagem abaixo.\n",
    "\n",
    "![Orquídea Iris](Iris.png \"Orquídea Íris\")"
   ]
  },
  {
   "cell_type": "markdown",
   "id": "000c7b47",
   "metadata": {},
   "source": [
    "### Nomes dos Targets/Saídas\n",
    "\n",
    "print(iris.target_names)\n"
   ]
  },
  {
   "cell_type": "code",
   "execution_count": 4,
   "id": "e3e2107c",
   "metadata": {},
   "outputs": [
    {
     "name": "stdout",
     "output_type": "stream",
     "text": [
      "['setosa' 'versicolor' 'virginica']\n"
     ]
    }
   ],
   "source": [
    "print(iris.target_names)"
   ]
  },
  {
   "cell_type": "markdown",
   "id": "bc05e80a",
   "metadata": {},
   "source": [
    "Podemos ver a demonstração visual da separação das classes na imagem abaixo.\n",
    "\n",
    "![Tipos de Íris](tipos_de_iris.png \"Tipos de Íris\")\n"
   ]
  },
  {
   "cell_type": "markdown",
   "id": "a00d9a0b",
   "metadata": {},
   "source": [
    "### Requisitos para trabalhar com dados no scikit-learn \n",
    "\n",
    "* Recursos e resposta são objetos separados\n",
    "    * Neste caso, dados e destino são separados\n",
    "Os recursos e a resposta devem ser numéricos\n",
    "Neste caso, os recursos e a resposta são numéricos com a dimensão da matriz de 150 x 4\n",
    "Os recursos e a resposta devem ser matrizes NumPy\n",
    "O conjunto de dados iris já contém matrizes NumPy\n",
    "Para outro conjunto de dados, carregando-os no NumPy\n",
    "Os recursos e a resposta devem ter formas específicas\n",
    "150 x 4 para todo o conjunto de dados\n",
    "150 x 1 para exemplos\n",
    "4 x 1 para recursos\n",
    "você pode converter a matriz de acordo com np.tile (a, [4, 1]), onde a é a matriz e [4, 1] é a dimensionalidade pretendida da matriz"
   ]
  },
  {
   "cell_type": "code",
   "execution_count": null,
   "id": "073ee204",
   "metadata": {},
   "outputs": [],
   "source": []
  },
  {
   "cell_type": "code",
   "execution_count": null,
   "id": "1645ed63",
   "metadata": {},
   "outputs": [],
   "source": []
  }
 ],
 "metadata": {
  "kernelspec": {
   "display_name": "Python 3",
   "language": "python",
   "name": "python3"
  },
  "language_info": {
   "codemirror_mode": {
    "name": "ipython",
    "version": 3
   },
   "file_extension": ".py",
   "mimetype": "text/x-python",
   "name": "python",
   "nbconvert_exporter": "python",
   "pygments_lexer": "ipython3",
   "version": "3.6.9"
  }
 },
 "nbformat": 4,
 "nbformat_minor": 5
}
