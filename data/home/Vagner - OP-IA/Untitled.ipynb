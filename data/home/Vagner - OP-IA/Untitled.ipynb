{
 "cells": [
  {
   "cell_type": "markdown",
   "id": "978cb9b2",
   "metadata": {},
   "source": [
    "# Aplicação de Deep Q-Learning na solução do jogo Pacman"
   ]
  },
  {
   "cell_type": "code",
   "execution_count": null,
   "id": "0c5a3f15",
   "metadata": {},
   "outputs": [],
   "source": []
  }
 ],
 "metadata": {
  "kernelspec": {
   "display_name": "Python 3",
   "language": "python",
   "name": "python3"
  },
  "language_info": {
   "codemirror_mode": {
    "name": "ipython",
    "version": 3
   },
   "file_extension": ".py",
   "mimetype": "text/x-python",
   "name": "python",
   "nbconvert_exporter": "python",
   "pygments_lexer": "ipython3",
   "version": "3.6.9"
  }
 },
 "nbformat": 4,
 "nbformat_minor": 5
}
